{
 "cells": [
  {
   "cell_type": "code",
   "execution_count": 3,
   "metadata": {},
   "outputs": [],
   "source": [
    "%matplotlib inline\n",
    "import numpy as np\n",
    "import matplotlib.pyplot as plt"
   ]
  },
  {
   "cell_type": "code",
   "execution_count": 51,
   "metadata": {},
   "outputs": [],
   "source": [
    "def function_for_roots(x):    #define the function\n",
    "    a=1.01\n",
    "    b=-3.04\n",
    "    c=2.07\n",
    "    return a*x**2+b*x+c"
   ]
  },
  {
   "cell_type": "code",
   "execution_count": 52,
   "metadata": {},
   "outputs": [],
   "source": [
    "def check_initial_values(f,x_min,x_max,tol):    #check whether the initial values are valid\n",
    "    \n",
    "    y_min=f(x_min)\n",
    "    y_max=f(x_max)\n",
    "    \n",
    "    if(y_min*y_max>=0.0):\n",
    "        print(\"No zero crossing found in the range = \",x_min,x_max)\n",
    "        s=\"f(%f)=%f,f(%f)=%f\" %(x_min,y_min,x_max,y_max)\n",
    "        print(s)\n",
    "        return 0\n",
    "    if(np.fabs(y_min)<tol):\n",
    "        return 1\n",
    "    if(np.fabs(y_max)<tol):\n",
    "        return 2\n",
    "    return 3"
   ]
  },
  {
   "cell_type": "code",
   "execution_count": 55,
   "metadata": {},
   "outputs": [],
   "source": [
    "def bisection_root_finding(f,x_min_start,x_max_start,tol):    #define the function that does the root search\n",
    "    x_min=x_min_start\n",
    "    x_max=x_max_start\n",
    "    x_mid=0.0\n",
    "    y_min=f(x_min)\n",
    "    y_max=f(x_max)\n",
    "    y_mid=0.0\n",
    "    imax=10000\n",
    "    i=0\n",
    "    \n",
    "    flag=check_initial_values(f,x_min,x_max,tol)\n",
    "    if(flag==0):\n",
    "        print(\"Error in bisection_root_finding().\")\n",
    "        raise ValueError('Initial values invalid',x_min,x_max)\n",
    "    elif(flag==1):\n",
    "        return x_min\n",
    "    elif(flag==2):\n",
    "        return x_max\n",
    "    \n",
    "    flag=1\n",
    "    while(flag):\n",
    "        x_mid=0.5*(x_min+x_max)\n",
    "        y_mid=f(x_mid)\n",
    "        if(np.fabs(y_mid)<tol):\n",
    "            flag=0\n",
    "        else:\n",
    "            if(f(x_min)*f(x_mid)>0):\n",
    "                x_min=x_mid\n",
    "            else:\n",
    "                x_max=x_mid\n",
    "        print(x_min,f(x_min),x_max,f(x_max))\n",
    "        \n",
    "        i+=1\n",
    "        print(\"Iteration No\",i)   #show the times of iterations\n",
    "        if(i>=imax):\n",
    "            print(\"Exceeded max number of iterations = \",i)\n",
    "            s=\"Min bracket f(%f) = %f\"% (x_min,f(x_min))\n",
    "            print(s)\n",
    "            s=\"Max bracket f(%f) = %f\"% (x_max,f(x_max))\n",
    "            print(s)\n",
    "            s=\"Mid bracket f(%f) = %f\"% (x_mid,f(x_mid))\n",
    "            print(s)\n",
    "            raise StopIteration('Stopping iterations after ',i)\n",
    "    \n",
    "    return x_mid"
   ]
  },
  {
   "cell_type": "code",
   "execution_count": 56,
   "metadata": {},
   "outputs": [
    {
     "name": "stdout",
     "output_type": "stream",
     "text": [
      "0.0 2.07\n",
      "1.5 -0.2175000000000007\n",
      "0.75 0.3581249999999996 1.5 -0.2175000000000007\n",
      "Iteration No 1\n",
      "0.75 0.3581249999999996 1.125 -0.07171875000000005\n",
      "Iteration No 2\n",
      "0.9375 0.10769531249999975 1.125 -0.07171875000000005\n",
      "Iteration No 3\n",
      "1.03125 0.009111328124999485 1.125 -0.07171875000000005\n",
      "Iteration No 4\n",
      "1.03125 0.009111328124999485 1.078125 -0.033522949218749876\n",
      "Iteration No 5\n",
      "1.03125 0.009111328124999485 1.0546875 -0.012760620117187482\n",
      "Iteration No 6\n",
      "1.03125 0.009111328124999485 1.04296875 -0.0019633483886720704\n",
      "Iteration No 7\n",
      "1.037109375 0.0035393142700193003 1.04296875 -0.0019633483886720704\n",
      "Iteration No 8\n",
      "1.0400390625 0.0007793140411376243 1.04296875 -0.0019633483886720704\n",
      "Iteration No 9\n",
      "1.0400390625 0.0007793140411376243 1.04150390625 -0.0005941843986509987\n",
      "Iteration No 10\n",
      "1.040771484375 9.202301502186927e-05 1.04150390625 -0.0005941843986509987\n",
      "Iteration No 11\n",
      "1.040771484375 9.202301502186927e-05 1.0411376953125 -0.0002512161433698701\n",
      "Iteration No 12\n",
      "1.040771484375 9.202301502186927e-05 1.04095458984375 -7.963042706249368e-05\n",
      "Iteration No 13\n",
      "1.040863037109375 6.1878282573424315e-06 1.04095458984375 -7.963042706249368e-05\n",
      "Iteration No 14\n",
      "1.040863037109375 6.1878282573424315e-06 1.0409088134765625 -3.6723415833161965e-05\n",
      "Iteration No 15\n",
      "1.040863037109375 6.1878282573424315e-06 1.0408859252929688 -1.5268322895334308e-05\n",
      "Iteration No 16\n",
      "1.040863037109375 6.1878282573424315e-06 1.0408744812011719 -4.540379595852073e-06\n",
      "Iteration No 17\n",
      "1.040863037109375 6.1878282573424315e-06 1.0408744812011719 -4.540379595852073e-06\n",
      "Iteration No 18\n"
     ]
    },
    {
     "data": {
      "image/png": "[encoded data removed]",
      "text/plain": [
       "<Figure size 432x288 with 1 Axes>"
      ]
     },
     "metadata": {
      "needs_background": "light"
     },
     "output_type": "display_data"
    },
    {
     "name": "stdout",
     "output_type": "stream",
     "text": [
      "Root found with y(1.040869) = 0.000001\n"
     ]
    }
   ],
   "source": [
    "x_min=0.0\n",
    "x_max=1.5\n",
    "tolerance=1.0e-6\n",
    "\n",
    "print(x_min,function_for_roots(x_min))\n",
    "print(x_max,function_for_roots(x_max))\n",
    "\n",
    "x_root=bisection_root_finding(function_for_roots,x_min,x_max,tolerance)\n",
    "y_root=function_for_roots(x_root)\n",
    "\n",
    "x=np.linspace(0,3,1000)  #set x and y values\n",
    "y=function_for_roots(x)\n",
    "z=0.0*x                  #set the z=0 line\n",
    "plt.plot(x,y)\n",
    "plt.plot(x,z)\n",
    "plt.xlim(0,3)            #set x and y limits\n",
    "plt.ylim(-0.5,2.1)\n",
    "plt.xlabel('x')\n",
    "plt.ylabel('f(x)')\n",
    "\n",
    "#Plot the initial bracketing points as well as the root we get\n",
    "plt.plot(x_min,function_for_roots(x_min),marker='o',markersize=9,color=\"red\")\n",
    "plt.plot(x_max,function_for_roots(x_max),marker='o',markersize=9,color=\"green\")\n",
    "plt.plot(x_root,y_root,marker='o',markersize=9,color=\"purple\")\n",
    "\n",
    "plt.show()\n",
    "\n",
    "#print the root\n",
    "s=\"Root found with y(%f) = %f\"%(x_root,y_root)\n",
    "print(s)"
   ]
  }
 ],
 "metadata": {
  "kernelspec": {
   "display_name": "Python 3",
   "language": "python",
   "name": "python3"
  },
  "language_info": {
   "codemirror_mode": {
    "name": "ipython",
    "version": 3
   },
   "file_extension": ".py",
   "mimetype": "text/x-python",
   "name": "python",
   "nbconvert_exporter": "python",
   "pygments_lexer": "ipython3",
   "version": "3.6.5"
  }
 },
 "nbformat": 4,
 "nbformat_minor": 2
}
